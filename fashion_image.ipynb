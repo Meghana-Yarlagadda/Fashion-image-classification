{
  "cells": [
    {
      "cell_type": "markdown",
      "metadata": {
        "id": "view-in-github",
        "colab_type": "text"
      },
      "source": [
        "<a href=\"https://colab.research.google.com/github/Meghana-Yarlagadda/Fashion-image-classification/blob/main/fashion_image.ipynb\" target=\"_parent\"><img src=\"https://colab.research.google.com/assets/colab-badge.svg\" alt=\"Open In Colab\"/></a>"
      ]
    },
    {
      "cell_type": "code",
      "execution_count": 1,
      "metadata": {
        "id": "WfcomoMwzPWg"
      },
      "outputs": [],
      "source": [
        "import torch\n",
        "import numpy as np\n",
        "from torch.utils.data import Dataset, DataLoader\n",
        "from torch import nn\n",
        "from torchvision import transforms\n",
        "import matplotlib.pyplot as plt\n",
        "import torchvision\n",
        "import torch.nn.functional as F\n",
        "from torch.autograd import Variable\n",
        "from torch import optim\n"
      ]
    },
    {
      "cell_type": "code",
      "execution_count": 2,
      "metadata": {
        "id": "7obtYUQR1e2Y"
      },
      "outputs": [],
      "source": [
        "device = 'cuda' if torch.cuda.is_available() else 'cpu'"
      ]
    },
    {
      "cell_type": "code",
      "execution_count": 3,
      "metadata": {
        "colab": {
          "base_uri": "https://localhost:8080/"
        },
        "id": "svFd8O0Q1ifQ",
        "outputId": "f465e24f-f37b-42dd-f7ed-41e3397e475e"
      },
      "outputs": [
        {
          "output_type": "stream",
          "name": "stdout",
          "text": [
            "Downloading http://fashion-mnist.s3-website.eu-central-1.amazonaws.com/train-images-idx3-ubyte.gz\n",
            "Downloading http://fashion-mnist.s3-website.eu-central-1.amazonaws.com/train-images-idx3-ubyte.gz to .data/FashionMNIST/raw/train-images-idx3-ubyte.gz\n"
          ]
        },
        {
          "output_type": "stream",
          "name": "stderr",
          "text": [
            "100%|██████████| 26.4M/26.4M [00:02<00:00, 10.7MB/s]\n"
          ]
        },
        {
          "output_type": "stream",
          "name": "stdout",
          "text": [
            "Extracting .data/FashionMNIST/raw/train-images-idx3-ubyte.gz to .data/FashionMNIST/raw\n",
            "\n",
            "Downloading http://fashion-mnist.s3-website.eu-central-1.amazonaws.com/train-labels-idx1-ubyte.gz\n",
            "Downloading http://fashion-mnist.s3-website.eu-central-1.amazonaws.com/train-labels-idx1-ubyte.gz to .data/FashionMNIST/raw/train-labels-idx1-ubyte.gz\n"
          ]
        },
        {
          "output_type": "stream",
          "name": "stderr",
          "text": [
            "100%|██████████| 29.5k/29.5k [00:00<00:00, 166kB/s]\n"
          ]
        },
        {
          "output_type": "stream",
          "name": "stdout",
          "text": [
            "Extracting .data/FashionMNIST/raw/train-labels-idx1-ubyte.gz to .data/FashionMNIST/raw\n",
            "\n",
            "Downloading http://fashion-mnist.s3-website.eu-central-1.amazonaws.com/t10k-images-idx3-ubyte.gz\n",
            "Downloading http://fashion-mnist.s3-website.eu-central-1.amazonaws.com/t10k-images-idx3-ubyte.gz to .data/FashionMNIST/raw/t10k-images-idx3-ubyte.gz\n"
          ]
        },
        {
          "output_type": "stream",
          "name": "stderr",
          "text": [
            "100%|██████████| 4.42M/4.42M [00:01<00:00, 3.21MB/s]\n"
          ]
        },
        {
          "output_type": "stream",
          "name": "stdout",
          "text": [
            "Extracting .data/FashionMNIST/raw/t10k-images-idx3-ubyte.gz to .data/FashionMNIST/raw\n",
            "\n",
            "Downloading http://fashion-mnist.s3-website.eu-central-1.amazonaws.com/t10k-labels-idx1-ubyte.gz\n",
            "Downloading http://fashion-mnist.s3-website.eu-central-1.amazonaws.com/t10k-labels-idx1-ubyte.gz to .data/FashionMNIST/raw/t10k-labels-idx1-ubyte.gz\n"
          ]
        },
        {
          "output_type": "stream",
          "name": "stderr",
          "text": [
            "100%|██████████| 5.15k/5.15k [00:00<00:00, 11.7MB/s]"
          ]
        },
        {
          "output_type": "stream",
          "name": "stdout",
          "text": [
            "Extracting .data/FashionMNIST/raw/t10k-labels-idx1-ubyte.gz to .data/FashionMNIST/raw\n",
            "\n"
          ]
        },
        {
          "output_type": "stream",
          "name": "stderr",
          "text": [
            "\n"
          ]
        }
      ],
      "source": [
        "trans = transforms.Compose([\n",
        "    transforms.ToTensor(), transforms.Normalize((0.5), (0.5))\n",
        "])\n",
        "\n",
        "dataset = torchvision.datasets.FashionMNIST('.data/', download=True, train=True, transform=trans)"
      ]
    },
    {
      "cell_type": "code",
      "execution_count": 4,
      "metadata": {
        "colab": {
          "base_uri": "https://localhost:8080/"
        },
        "id": "LNTT0BIM1y47",
        "outputId": "9ae0f275-c950-494e-e1f3-3d447bcb5c0a"
      },
      "outputs": [
        {
          "output_type": "execute_result",
          "data": {
            "text/plain": [
              "{'T-shirt/top': 0,\n",
              " 'Trouser': 1,\n",
              " 'Pullover': 2,\n",
              " 'Dress': 3,\n",
              " 'Coat': 4,\n",
              " 'Sandal': 5,\n",
              " 'Shirt': 6,\n",
              " 'Sneaker': 7,\n",
              " 'Bag': 8,\n",
              " 'Ankle boot': 9}"
            ]
          },
          "metadata": {},
          "execution_count": 4
        }
      ],
      "source": [
        "dataset.class_to_idx"
      ]
    },
    {
      "cell_type": "code",
      "execution_count": 5,
      "metadata": {
        "id": "XLit3Av719so"
      },
      "outputs": [],
      "source": [
        "classes = list(dataset.class_to_idx.keys())"
      ]
    },
    {
      "cell_type": "code",
      "execution_count": 6,
      "metadata": {
        "id": "bAJqspkg13ac"
      },
      "outputs": [],
      "source": [
        "dataloader = DataLoader(dataset, batch_size=128, shuffle=True)"
      ]
    },
    {
      "cell_type": "code",
      "execution_count": 7,
      "metadata": {
        "colab": {
          "base_uri": "https://localhost:8080/",
          "height": 192
        },
        "id": "pcBwps-a2DpD",
        "outputId": "b1cf83e4-349f-4d01-83e2-1c009e701e34"
      },
      "outputs": [
        {
          "output_type": "display_data",
          "data": {
            "text/plain": [
              "<Figure size 1000x200 with 5 Axes>"
            ],
            "image/png": "[encoded data removed]"
          },
          "metadata": {}
        }
      ],
      "source": [
        "fig, axes = plt.subplots(1,5, figsize=(10,2))\n",
        "\n",
        "for ax in axes.ravel():\n",
        "  r = next(iter(dataloader))\n",
        "  ax.imshow(r[0].numpy()[1].reshape(28,28), cmap='bone_r')\n",
        "  ax.set_title(classes[r[1].numpy()[1]])\n",
        "  ax.axis('off')\n"
      ]
    },
    {
      "cell_type": "code",
      "execution_count": 8,
      "metadata": {
        "id": "4qp8zxZM2t6S"
      },
      "outputs": [],
      "source": [
        "class VAE(nn.Module):\n",
        "  def __init__(self):\n",
        "    super().__init__()\n",
        "    self.input_layer = nn.Linear(784, 400)\n",
        "    self.mu = nn.Linear(400, 20)\n",
        "    self.sigma = nn.Linear(400, 20)\n",
        "    self.upscale_sample = nn.Linear(20,400)\n",
        "    self.output_layer = nn.Linear(400, 784)\n",
        "\n",
        "  def encode(self, x):\n",
        "    x = F.relu(self.input_layer(x))\n",
        "    return self.mu(x), self.sigma(x)\n",
        "\n",
        "  def parametric(self, mu, sigma):\n",
        "    std = sigma.exp()\n",
        "\n",
        "    if torch.cuda.is_available():\n",
        "      sample = torch.cuda.FloatTensor(mu.size()).normal_()\n",
        "    else:\n",
        "      sample = torch.FloatTensor(mu.size()).normal_()\n",
        "\n",
        "    sample = Variable(sample)\n",
        "\n",
        "    return sample.mul(std).add(mu)\n",
        "\n",
        "  def decode(self, sample):\n",
        "    x = F.relu(self.upscale_sample(sample))\n",
        "    return torch.sigmoid(self.output_layer(x))\n",
        "\n",
        "\n",
        "  def forward(self, x):\n",
        "    mu, sigma = self.encode(x)\n",
        "    sample = self.parametric(mu, sigma)\n",
        "\n",
        "    return self.decode(sample), mu, sigma"
      ]
    },
    {
      "cell_type": "code",
      "execution_count": 9,
      "metadata": {
        "id": "enb7Qx9440KF"
      },
      "outputs": [],
      "source": [
        "model = VAE().to(device)"
      ]
    },
    {
      "cell_type": "code",
      "execution_count": 10,
      "metadata": {
        "colab": {
          "base_uri": "https://localhost:8080/"
        },
        "id": "AFb1hMmQ42f3",
        "outputId": "58c8d758-0b39-480a-b8ec-56400c57fec7"
      },
      "outputs": [
        {
          "output_type": "execute_result",
          "data": {
            "text/plain": [
              "VAE(\n",
              "  (input_layer): Linear(in_features=784, out_features=400, bias=True)\n",
              "  (mu): Linear(in_features=400, out_features=20, bias=True)\n",
              "  (sigma): Linear(in_features=400, out_features=20, bias=True)\n",
              "  (upscale_sample): Linear(in_features=20, out_features=400, bias=True)\n",
              "  (output_layer): Linear(in_features=400, out_features=784, bias=True)\n",
              ")"
            ]
          },
          "metadata": {},
          "execution_count": 10
        }
      ],
      "source": [
        "model"
      ]
    },
    {
      "cell_type": "code",
      "execution_count": 11,
      "metadata": {
        "id": "W7LWUZqH5BN2"
      },
      "outputs": [],
      "source": [
        "def loss_function(reconstructed, real, mu, sigma):\n",
        "  image_loss = nn.MSELoss(reduction='sum')(reconstructed, real)\n",
        "\n",
        "  kl_loss = -0.5*(torch.sum(1+sigma - mu.pow(2) - sigma.exp()))\n",
        "\n",
        "  return image_loss, kl_loss"
      ]
    },
    {
      "cell_type": "code",
      "execution_count": 12,
      "metadata": {
        "id": "6RVSXzJZ5dzF"
      },
      "outputs": [],
      "source": [
        "optimizer = optim.Adam(model.parameters(), lr=1e-3)"
      ]
    },
    {
      "cell_type": "code",
      "execution_count": 13,
      "metadata": {
        "colab": {
          "base_uri": "https://localhost:8080/"
        },
        "id": "_PU8ZHKa5Fqo",
        "outputId": "1af8ee4a-68f7-4c93-8d49-9ec486168fd9"
      },
      "outputs": [
        {
          "output_type": "stream",
          "name": "stdout",
          "text": [
            "Epoch: 1/10\n"
          ]
        },
        {
          "output_type": "stream",
          "name": "stderr",
          "text": [
            "<ipython-input-8-607ecad2f797>:18: UserWarning: The torch.cuda.*DtypeTensor constructors are no longer recommended. It's best to use methods such as torch.tensor(data, dtype=*, device='cuda') to create tensors. (Triggered internally at ../torch/csrc/tensor/python_tensor.cpp:78.)\n",
            "  sample = torch.cuda.FloatTensor(mu.size()).normal_()\n"
          ]
        },
        {
          "output_type": "stream",
          "name": "stdout",
          "text": [
            "Epoch 1: Loss (Reconstruction): 64382.1650, KL Loss: 1147.2867, Accuracy: 0.24%\n",
            "Epoch: 2/10\n",
            "Epoch 2: Loss (Reconstruction): 61449.7519, KL Loss: 879.8503, Accuracy: 0.40%\n",
            "Epoch: 3/10\n",
            "Epoch 3: Loss (Reconstruction): 60904.7268, KL Loss: 879.7227, Accuracy: 0.45%\n",
            "Epoch: 4/10\n",
            "Epoch 4: Loss (Reconstruction): 60616.6563, KL Loss: 879.6653, Accuracy: 0.48%\n",
            "Epoch: 5/10\n",
            "Epoch 5: Loss (Reconstruction): 60430.5094, KL Loss: 874.5411, Accuracy: 0.50%\n",
            "Epoch: 6/10\n",
            "Epoch 6: Loss (Reconstruction): 60288.4274, KL Loss: 872.7146, Accuracy: 0.52%\n",
            "Epoch: 7/10\n",
            "Epoch 7: Loss (Reconstruction): 60188.3524, KL Loss: 872.4366, Accuracy: 0.53%\n",
            "Epoch: 8/10\n",
            "Epoch 8: Loss (Reconstruction): 60104.9236, KL Loss: 871.9297, Accuracy: 0.54%\n",
            "Epoch: 9/10\n",
            "Epoch 9: Loss (Reconstruction): 60038.8233, KL Loss: 875.6711, Accuracy: 0.55%\n",
            "Epoch: 10/10\n",
            "Epoch 10: Loss (Reconstruction): 59980.9928, KL Loss: 877.5402, Accuracy: 0.56%\n"
          ]
        }
      ],
      "source": [
        "epochs = 10\n",
        "\n",
        "for epoch in range(epochs):\n",
        "    model.train()\n",
        "    print(f\"Epoch: {epoch+1}/{epochs}\")\n",
        "\n",
        "    train_loss_im, train_loss_kl = 0, 0\n",
        "    correct_reconstructions = 0\n",
        "    total_samples = 0\n",
        "\n",
        "    for b, data in enumerate(dataloader):\n",
        "        img, _ = data\n",
        "        img = img.view(img.size(0), -1)\n",
        "        img = img.to(device)\n",
        "\n",
        "        optimizer.zero_grad()\n",
        "\n",
        "        # Forward pass\n",
        "        recons, mu, sigma = model(img)\n",
        "\n",
        "        # Compute losses\n",
        "        loss_im, loss_kl = loss_function(recons, img, mu, sigma)\n",
        "        loss = loss_im + loss_kl\n",
        "\n",
        "        # Backward pass and optimization\n",
        "        loss.backward()\n",
        "        optimizer.step()\n",
        "\n",
        "        # Accumulate losses\n",
        "        train_loss_im += loss_im.item()\n",
        "        train_loss_kl += loss_kl.item()\n",
        "\n",
        "        # Compute accuracy (assuming reconstruction threshold)\n",
        "        predicted = (recons > 0.5).float()  # Assuming pixel values are normalized between 0 and 1\n",
        "        correct_reconstructions += (predicted == img).sum().item()\n",
        "        total_samples += img.numel()\n",
        "\n",
        "    # Compute average loss and pseudo-accuracy\n",
        "    avg_loss_im = train_loss_im / len(dataloader)\n",
        "    avg_loss_kl = train_loss_kl / len(dataloader)\n",
        "    accuracy = 100 * correct_reconstructions / total_samples\n",
        "\n",
        "    print(f\"Epoch {epoch+1}: Loss (Reconstruction): {avg_loss_im:.4f}, KL Loss: {avg_loss_kl:.4f}, Accuracy: {accuracy:.2f}%\")\n"
      ]
    },
    {
      "cell_type": "code",
      "execution_count": 14,
      "metadata": {
        "colab": {
          "base_uri": "https://localhost:8080/",
          "height": 325
        },
        "id": "lHK6wDzt6V0N",
        "outputId": "d77517ea-0ac0-4ba4-e42d-f3904c7ea8f7"
      },
      "outputs": [
        {
          "output_type": "execute_result",
          "data": {
            "text/plain": [
              "[]"
            ]
          },
          "metadata": {},
          "execution_count": 14
        },
        {
          "output_type": "display_data",
          "data": {
            "text/plain": [
              "<Figure size 640x480 with 2 Axes>"
            ],
            "image/png": "[encoded data removed]"
          },
          "metadata": {}
        }
      ],
      "source": [
        "model.eval()\n",
        "\n",
        "ev_img = next(iter(dataloader))[0].numpy()[1].reshape(28,28)\n",
        "\n",
        "ev_img_r = ev_img.ravel()\n",
        "#model= dnn.read(mm.weight,mm.cfg)\n",
        "\n",
        "ev_mu, ev_sigma = model.encode(torch.from_numpy(ev_img_r).cuda())\n",
        "\n",
        "ev_param_tensor = model.parametric(ev_mu, ev_sigma)\n",
        "\n",
        "ev_out = model.decode(ev_param_tensor).cpu().detach().numpy().reshape(28,28)\n",
        "\n",
        "fig, ax = plt.subplots(1,2)\n",
        "\n",
        "ax[0].set_title('Original Image')\n",
        "\n",
        "ax[0].imshow(ev_img, cmap='bone_r')\n",
        "\n",
        "ax[1].set_title('Reconstructed Image')\n",
        "\n",
        "ax[1].imshow(ev_out, cmap='bone_r')\n",
        "\n",
        "plt.plot()"
      ]
    },
    {
      "cell_type": "code",
      "source": [],
      "metadata": {
        "id": "YF98HKCbWiAp"
      },
      "execution_count": 14,
      "outputs": []
    }
  ],
  "metadata": {
    "accelerator": "GPU",
    "colab": {
      "gpuType": "T4",
      "provenance": [],
      "include_colab_link": true
    },
    "kernelspec": {
      "display_name": "Python 3 (ipykernel)",
      "language": "python",
      "name": "python3"
    },
    "language_info": {
      "codemirror_mode": {
        "name": "ipython",
        "version": 3
      },
      "file_extension": ".py",
      "mimetype": "text/x-python",
      "name": "python",
      "nbconvert_exporter": "python",
      "pygments_lexer": "ipython3",
      "version": "3.12.3"
    }
  },
  "nbformat": 4,
  "nbformat_minor": 0
}